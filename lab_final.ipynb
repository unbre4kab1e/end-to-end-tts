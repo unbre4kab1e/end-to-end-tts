{
 "cells": [
  {
   "cell_type": "markdown",
   "id": "fa415404",
   "metadata": {},
   "source": [
    "# Lab : Text-to-Speech avec Tacotron2 et HiFi-GAN\n",
    "\n",
    "Ce laboratoire vous guide pas à pas pour passer d’un texte brut à un fichier audio `.wav` en utilisant Tacotron2 pour générer les spectrogrammes Mel, puis HiFi-GAN pour la synthèse vocale de haute qualité."
   ]
  },
  {
   "cell_type": "markdown",
   "id": "591346bd",
   "metadata": {},
   "source": [
    "## 1. Préparation de l’environnement\n",
    "\n",
    "> **But** : cloner le dépôt Tacotron2-PyTorch, Hifi-GAN et installer toutes les dépendances Python nécessaires."
   ]
  },
  {
   "cell_type": "code",
   "execution_count": null,
   "id": "faed22e6",
   "metadata": {},
   "outputs": [],
   "source": [
    "!git clone https://github.com/BogiHsu/Tacotron2-PyTorch.git\n",
    "!pip install -r Tacotron2-PyTorch/requirements.txt\n",
    "!git clone https://github.com/jik876/hifi-gan.git\n",
    "!mkdir mel_files"
   ]
  },
  {
   "cell_type": "markdown",
   "id": "9ec327b7",
   "metadata": {},
   "source": [
    "## 2. Téléchargement du modèle Tacotron2 pré-entraîné\n",
    "\n",
    "> **But** : récupérer le fichier de checkpoint `.pt` contenant les poids entraînés sur LJSpeech."
   ]
  },
  {
   "cell_type": "code",
   "execution_count": null,
   "id": "1d6c7b79",
   "metadata": {},
   "outputs": [],
   "source": [
    "import urllib.request\n",
    "import os\n",
    "\n",
    "url = \"https://github.com/BogiHsu/Tacotron2-PyTorch/releases/download/lj-200k-b512/ckpt_200000\"\n",
    "out_path = os.path.join(\"Tacotron2-PyTorch\", \"ckpt_200000.pt\")\n",
    "\n",
    "# Crée le dossier s'il n'existe pas\n",
    "os.makedirs(os.path.dirname(out_path), exist_ok=True)\n",
    "\n",
    "# Téléchargement\n",
    "print(f\"Téléchargement de {url} → {out_path} …\")\n",
    "urllib.request.urlretrieve(url, out_path)\n",
    "print(\"Terminé.\")"
   ]
  },
  {
   "cell_type": "markdown",
   "id": "a02a9034",
   "metadata": {},
   "source": [
    "## 3. Téléchargement du modèle HiFi-GAN pré-entraîné\n",
    "\n",
    "> **But** : récupérer la configuration et les poids du vocodeur HiFi-GAN."
   ]
  },
  {
   "cell_type": "code",
   "execution_count": null,
   "id": "b1490ca3",
   "metadata": {},
   "outputs": [],
   "source": [
    "import gdown\n",
    "\n",
    "# 1) Télécharger le fichier config.json de HiFi-GAN\n",
    "# 2) Télécharger le checkpoint du générateur\n",
    "\n",
    "dl = {'hifi-gan/config.json': 'https://drive.google.com/u/1/uc?id=1aDh576AEYA5eTjhx7sew1qcCM_Y526jc&export=download',\n",
    "      'hifi-gan/generator_v1': 'https://drive.google.com/u/1/uc?id=14NENd4equCBLyyCSke114Mv6YR_j_uFs&export=download'}\n",
    "for k in dl:\n",
    "    gdown.download(dl[k], k)"
   ]
  },
  {
   "cell_type": "markdown",
   "id": "fd31a82f",
   "metadata": {},
   "source": [
    "## 4. Inference Tacotron2\n",
    "\n",
    "> **But** : générer le spectrogramme Mel à partir d’un texte donné."
   ]
  },
  {
   "cell_type": "code",
   "execution_count": null,
   "id": "fa0b4990",
   "metadata": {},
   "outputs": [],
   "source": [
    "%cd Tacotron2-PyTorch\n",
    "! \"\" > utils/__init__.py\n",
    "\n",
    "!python inference.py \\\n",
    "--ckpt_pth=ckpt_200000.pt \\\n",
    "--text=\"Hello\" \\\n",
    "--npy_pth=../mel_files/output_mel"
   ]
  },
  {
   "cell_type": "markdown",
   "id": "5efb981b",
   "metadata": {},
   "source": [
    "## 5. Visualisation du spectrogramme Mel\n",
    "\n",
    "> **But** : afficher le spectrogramme pour vérifier la qualité de la génération."
   ]
  },
  {
   "cell_type": "code",
   "execution_count": null,
   "id": "086f980f",
   "metadata": {},
   "outputs": [],
   "source": [
    "import numpy as np\n",
    "import matplotlib.pyplot as plt\n",
    "\n",
    "# 1) Charger le spectrogramme\n",
    "mel = np.load('../mel_files/output_mel.npy')\n",
    "\n",
    "# 2) Afficher\n",
    "plt.figure(figsize=(12, 4))\n",
    "plt.imshow(mel.T, aspect='auto', origin='lower')\n",
    "plt.title(\"Spectrogramme Mel généré par Tacotron2\")\n",
    "plt.xlabel(\"Frame\")\n",
    "plt.ylabel(\"Canaux Mel\")\n",
    "plt.colorbar()\n",
    "plt.show()"
   ]
  },
  {
   "cell_type": "markdown",
   "id": "9a43b2bb",
   "metadata": {},
   "source": [
    "## 6. Synthèse audio avec HiFi-GAN\n",
    "\n",
    "> **But** : convertir le spectrogramme Mel en onde audio et enregistrer un `.wav`."
   ]
  },
  {
   "cell_type": "code",
   "execution_count": null,
   "id": "d3f64700",
   "metadata": {},
   "outputs": [],
   "source": [
    "%cd hifi-gan\n",
    "!python inference_e2e.py --checkpoint_file generator_v1 --input_mels_dir ../mel_files --output_dir ../wav_files\n",
    "%cd ../"
   ]
  },
  {
   "cell_type": "markdown",
   "id": "8d04e4d9",
   "metadata": {},
   "source": [
    "## 7. Lecture du résultat\n",
    "\n",
    "> **But** : écouter directement le fichier généré dans le notebook."
   ]
  },
  {
   "cell_type": "code",
   "execution_count": null,
   "id": "0821f901",
   "metadata": {},
   "outputs": [],
   "source": [
    "import IPython\n",
    "IPython.display.Audio('wav_files/output_mel_generated_e2e.wav')"
   ]
  }
 ],
 "metadata": {
  "kernelspec": {
   "display_name": "Python 3",
   "language": "python",
   "name": "python3"
  },
  "language_info": {
   "codemirror_mode": {
    "name": "ipython",
    "version": 3
   },
   "file_extension": ".py",
   "mimetype": "text/x-python",
   "name": "python",
   "nbconvert_exporter": "python",
   "pygments_lexer": "ipython3",
   "version": "3.12.6"
  }
 },
 "nbformat": 4,
 "nbformat_minor": 5
}
